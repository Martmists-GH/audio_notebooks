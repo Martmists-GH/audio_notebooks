{
 "cells": [
  {
   "cell_type": "code",
   "execution_count": null,
   "metadata": {
    "tags": [
     "remove-cell"
    ]
   },
   "outputs": [],
   "source": [
    "%matplotlib inline\n",
    "import numpy as np\n",
    "import matplotlib.pyplot as plt\n",
    "import IPython.display as ipd\n",
    "from scipy.io.wavfile import read\n",
    "from ipywidgets.widgets import interact\n",
    "\n",
    "# Read the audio sample as float32-array\n",
    "samplerate, audio = read('../audio/sample.wav')\n",
    "\n",
    "# Convert to mono for the sake of simplicity\n",
    "audio = audio[::,0].astype(np.float32)\n",
    "audio = audio / (np.max(audio) or 1)  # Set between -1 and 1\n",
    "\n",
    "sample = audio[:int(samplerate*0.020)]"
   ]
  }
 ],
 "metadata": {
  "kernelspec": {
   "display_name": "Python 3",
   "language": "python",
   "name": "python3"
  },
  "language_info": {
   "codemirror_mode": {
    "name": "ipython",
    "version": 3
   },
   "file_extension": ".py",
   "mimetype": "text/x-python",
   "name": "python",
   "nbconvert_exporter": "python",
   "pygments_lexer": "ipython3",
   "version": "3.8.6"
  }
 },
 "nbformat": 4,
 "nbformat_minor": 4
}
